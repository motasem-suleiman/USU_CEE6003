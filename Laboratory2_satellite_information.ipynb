{
 "cells": [
  {
   "cell_type": "markdown",
   "id": "5d93b51a-7b3d-4b41-9a95-23e9d32782e6",
   "metadata": {},
   "source": [
    "# Practice #1: Learning how to use Jupyter Notebook in a CUAHSI HydroShare\n",
    "\n",
    "## By Motasem Abualqumboz, Utah State University"
   ]
  },
  {
   "cell_type": "raw",
   "id": "a1cd086d-3c8e-4075-9dd5-1a9b6cc6371c",
   "metadata": {},
   "source": [
    "# Pass the following command before running this notebook (better to do in the terminal)\n",
    "\n",
    "pip install -U geemap"
   ]
  },
  {
   "cell_type": "markdown",
   "id": "6beacfcd-8ab1-460e-90ee-5e123a2ce67e",
   "metadata": {
    "jupyter": {
     "outputs_hidden": true
    },
    "tags": []
   },
   "source": [
    "### 1. Packages"
   ]
  },
  {
   "cell_type": "code",
   "execution_count": 1,
   "id": "d21574bb-1ee5-4a46-a264-9f38697f315b",
   "metadata": {},
   "outputs": [],
   "source": [
    "# import required packages\n",
    "\n",
    "import ee\n",
    "import geemap\n",
    "import geemap.colormaps as cm\n",
    "\n",
    "ee.Initialize()"
   ]
  },
  {
   "cell_type": "markdown",
   "id": "94dbf94f-8298-49d5-807f-af27d4f8127c",
   "metadata": {},
   "source": [
    "### 3. Define an area of interest e.g. Salt Lake"
   ]
  },
  {
   "cell_type": "markdown",
   "id": "7e2ef3d3-0bc8-42e8-8028-66624c488e45",
   "metadata": {},
   "source": [
    "a) Let's find coordinates of a site of your interest using the https://www.latlong.net/ website"
   ]
  },
  {
   "cell_type": "code",
   "execution_count": 2,
   "id": "57a5f897-04d7-4a10-8698-8ab3cd85fc3f",
   "metadata": {},
   "outputs": [],
   "source": [
    "# define latitude and longitude for the area of interest\n",
    "longitude = -112\n",
    "latitude = 41\n",
    "\n",
    "aoi = ee.Geometry.Rectangle([-113.000492,41.602654, -111.894630, 40.62826 ])"
   ]
  },
  {
   "cell_type": "markdown",
   "id": "d9e19a7a-1625-4500-ad51-167228572e58",
   "metadata": {},
   "source": [
    "### 2. Generate map"
   ]
  },
  {
   "cell_type": "code",
   "execution_count": 3,
   "id": "0bdf5e07-cc97-42fb-9f8e-bf05c00b43ac",
   "metadata": {},
   "outputs": [
    {
     "data": {
      "application/vnd.jupyter.widget-view+json": {
       "model_id": "9ace5374d69a4fb6b10ac72229685cf6",
       "version_major": 2,
       "version_minor": 0
      },
      "text/plain": [
       "Map(center=[41, -112], controls=(WidgetControl(options=['position', 'transparent_bg'], widget=HBox(children=(T…"
      ]
     },
     "metadata": {},
     "output_type": "display_data"
    }
   ],
   "source": [
    "#// Add the image to the map, using the visualization parameters.\n",
    "Map = geemap.Map(center=(latitude, longitude), zoom=8)\n",
    "Map"
   ]
  },
  {
   "cell_type": "markdown",
   "id": "5ada50f5-eab1-404c-ad70-dec01ece25e1",
   "metadata": {},
   "source": [
    "### 4. Retrieve satellite imagery: Landsat 8"
   ]
  },
  {
   "cell_type": "code",
   "execution_count": 4,
   "id": "4a13bdd9-b316-4940-8699-aa63f9035607",
   "metadata": {},
   "outputs": [
    {
     "data": {
      "application/vnd.jupyter.widget-view+json": {
       "model_id": "9ace5374d69a4fb6b10ac72229685cf6",
       "version_major": 2,
       "version_minor": 0
      },
      "text/plain": [
       "Map(center=[41, -112], controls=(WidgetControl(options=['position', 'transparent_bg'], widget=HBox(children=(T…"
      ]
     },
     "metadata": {},
     "output_type": "display_data"
    }
   ],
   "source": [
    "landsat = ee.ImageCollection(\"LANDSAT/LC08/C02/T1_L2\")\n",
    "\n",
    "# Note that we need to cast the result of first() to Image.\n",
    "salt_lake_Landsat = landsat.filterDate('2013-08-01', '2013-08-31').filterBounds(aoi)\n",
    "\n",
    "# // Center the map and display the image.\n",
    "#Map.setCenter(-122.1899, 37.5010, 10); # San Francisco Bay\n",
    "\n",
    "vis_params = {\n",
    "    'bands': ['SR_B4', 'SR_B3', 'SR_B2']\n",
    "}\n",
    "\n",
    "Map.addLayer(salt_lake_Landsat, vis_params, name='Landsat')\n",
    "Map"
   ]
  },
  {
   "cell_type": "markdown",
   "id": "239fa5ad-093a-43af-a6c8-4acc0c443556",
   "metadata": {},
   "source": [
    "### 5. Retrieve satellite imagery: ASTER"
   ]
  },
  {
   "cell_type": "code",
   "execution_count": 5,
   "id": "5351a956-42b1-4038-b574-2fd5200783c4",
   "metadata": {},
   "outputs": [
    {
     "data": {
      "application/vnd.jupyter.widget-view+json": {
       "model_id": "3b9bee1c4ca94a1f9fb5c4460868414a",
       "version_major": 2,
       "version_minor": 0
      },
      "text/plain": [
       "Map(center=[41, -112], controls=(WidgetControl(options=['position', 'transparent_bg'], widget=HBox(children=(T…"
      ]
     },
     "metadata": {},
     "output_type": "display_data"
    }
   ],
   "source": [
    "#// Add the image to the map, using the visualization parameters.\n",
    "Map2 = geemap.Map(center=(latitude, longitude), zoom=8)\n",
    "\n",
    "# Landsat database\n",
    "ASTER = ee.ImageCollection(\"ASTER/AST_L1T_003\")\n",
    "\n",
    "# Note that we need to cast the result of first() to Image.\n",
    "salt_lake_ASTER = ASTER.filterDate('2018-10-01', '2020-10-31').filterBounds(aoi)\n",
    "\n",
    "vis_params = {\n",
    "    'min':1,\n",
    "    'max': 255,\n",
    "    'bands': ['B3N', 'B02','B01']\n",
    "}\n",
    "\n",
    "Map2.addLayer(salt_lake_ASTER, vis_params, name='ASTER')\n",
    "Map2"
   ]
  },
  {
   "cell_type": "markdown",
   "id": "4843004e-7f6b-493a-9e39-a74e7883b0aa",
   "metadata": {},
   "source": [
    "### 6. Retrieve satellite imagery: Sentinel-2"
   ]
  },
  {
   "cell_type": "code",
   "execution_count": 6,
   "id": "bd003436-0927-4d77-8216-9f466fd9cf96",
   "metadata": {},
   "outputs": [
    {
     "data": {
      "application/vnd.jupyter.widget-view+json": {
       "model_id": "f5a963519dad4bfa9f9f1d935b1d2469",
       "version_major": 2,
       "version_minor": 0
      },
      "text/plain": [
       "Map(center=[41, -112], controls=(WidgetControl(options=['position', 'transparent_bg'], widget=HBox(children=(T…"
      ]
     },
     "metadata": {},
     "output_type": "display_data"
    }
   ],
   "source": [
    "#// Add the image to the map, using the visualization parameters.\n",
    "Map3 = geemap.Map(center=(latitude, longitude), zoom=8)\n",
    "\n",
    "Sentinel2 = ee.ImageCollection(\"COPERNICUS/S2\")\n",
    "\n",
    "# Note that we need to cast the result of first() to Image.\n",
    "salt_lake_Sentinel2 = Sentinel2.filterDate('2020-07-01', '2020-07-31').filterBounds(aoi)\n",
    "\n",
    "# // Center the map and display the image.\n",
    "#Map.setCenter(-122.1899, 37.5010, 10); # San Francisco Bay\n",
    "\n",
    "vis_params = {\n",
    "    'max': 8000,\n",
    "    'bands': ['B4', 'B3', 'B2']\n",
    "}\n",
    "\n",
    "Map3.addLayer(salt_lake_Sentinel2, vis_params, name='Sentinel2')\n",
    "Map3"
   ]
  },
  {
   "cell_type": "markdown",
   "id": "543a1c6d-f465-4f20-b2ee-036c7095495a",
   "metadata": {},
   "source": [
    "### 7. Retrieve satellite imagery: Sentinel-3"
   ]
  },
  {
   "cell_type": "code",
   "execution_count": 7,
   "id": "2939beb0-2edb-49b4-a416-7d5a5350f0dc",
   "metadata": {},
   "outputs": [
    {
     "data": {
      "application/vnd.jupyter.widget-view+json": {
       "model_id": "9bf22729348642ff8c7c186d07f8a1ec",
       "version_major": 2,
       "version_minor": 0
      },
      "text/plain": [
       "Map(center=[41, -112], controls=(WidgetControl(options=['position', 'transparent_bg'], widget=HBox(children=(T…"
      ]
     },
     "metadata": {},
     "output_type": "display_data"
    }
   ],
   "source": [
    "#// Add the image to the map, using the visualization parameters.\n",
    "Map4 = geemap.Map(center=(latitude, longitude), zoom=8)\n",
    "\n",
    "\n",
    "Sentinel3 = ee.ImageCollection('COPERNICUS/S3/OLCI').filterDate('2018-06-01', '2018-06-04').filterBounds(aoi)\n",
    "\n",
    "#Select bands for visualization and apply band-specific scale factors.\n",
    "rgb = Sentinel3.select(['Oa08_radiance', 'Oa06_radiance', 'Oa04_radiance'])\\\n",
    "    .median()\\\n",
    "    .multiply(ee.Image([0.00876539, 0.0123538, 0.0115198]));\n",
    "\n",
    "visParams = {\n",
    "  'min': 0,\n",
    "  'max': 6,\n",
    "  'gamma': 1.5,\n",
    "}\n",
    "\n",
    "Map4.addLayer(rgb, visParams, 'RGB');\n",
    "Map4"
   ]
  },
  {
   "cell_type": "markdown",
   "id": "65ef98ed-d20e-4416-9103-3438dd4943fc",
   "metadata": {},
   "source": [
    "### 8. Retrieve satellite imagery: PROBA-V"
   ]
  },
  {
   "cell_type": "code",
   "execution_count": 8,
   "id": "9462e158-f4db-4df2-8101-6fa06f415c8e",
   "metadata": {},
   "outputs": [
    {
     "data": {
      "application/vnd.jupyter.widget-view+json": {
       "model_id": "d7ca90ab06134597873e5fdf742965fd",
       "version_major": 2,
       "version_minor": 0
      },
      "text/plain": [
       "Map(center=[41, -112], controls=(WidgetControl(options=['position', 'transparent_bg'], widget=HBox(children=(T…"
      ]
     },
     "metadata": {},
     "output_type": "display_data"
    }
   ],
   "source": [
    "#// Add the image to the map, using the visualization parameters.\n",
    "Map5 = geemap.Map(center=(latitude, longitude), zoom=8)\n",
    "\n",
    "PROBA_V = ee.ImageCollection(\"VITO/PROBAV/C1/S1_TOC_100M\").filterDate('2018-07-01', '2018-07-31')\n",
    "\n",
    "# Note that we need to cast the result of first() to Image.\n",
    "salt_lake_PROBA_V = PROBA_V.select(['RED', 'NIR', 'BLUE']).filterBounds(aoi)\n",
    "\n",
    "visParams = {\n",
    "    'min': 20.0,\n",
    "    'max': 2000.0,\n",
    "}\n",
    "\n",
    "Map5.addLayer(salt_lake_PROBA_V, visParams, 'salt_lake_PROBA_V')\n",
    "Map5"
   ]
  },
  {
   "cell_type": "markdown",
   "id": "7a0308a3-6925-4c42-9d7f-a1cc6a7d2ca4",
   "metadata": {},
   "source": [
    "### 9. Retrieve satellite imagery: VIIRS"
   ]
  },
  {
   "cell_type": "code",
   "execution_count": 9,
   "id": "77753abc-14ff-4b10-adef-6f8c43f403d1",
   "metadata": {},
   "outputs": [
    {
     "data": {
      "application/vnd.jupyter.widget-view+json": {
       "model_id": "a6e8ae5358744246863697f80c131e3d",
       "version_major": 2,
       "version_minor": 0
      },
      "text/plain": [
       "Map(center=[41, -112], controls=(WidgetControl(options=['position', 'transparent_bg'], widget=HBox(children=(T…"
      ]
     },
     "metadata": {},
     "output_type": "display_data"
    }
   ],
   "source": [
    "#// Add the image to the map, using the visualization parameters.\n",
    "Map6 = geemap.Map(center=(latitude, longitude), zoom=8)\n",
    "\n",
    "VIIRS = ee.ImageCollection(\"NOAA/VIIRS/001/VNP09GA\")\n",
    "\n",
    "# Note that we need to cast the result of first() to Image.\n",
    "salt_lake_VIIRS = VIIRS.filterDate('2018-07-01', '2018-07-31').filterBounds(aoi)\n",
    "\n",
    "# // Center the map and display the image.\n",
    "#Map.setCenter(-122.1899, 37.5010, 10); # San Francisco Bay\n",
    "\n",
    "vis_params = {\n",
    "    'min':0,\n",
    "    'max': 3000,\n",
    "    'bands': ['M5', 'M4', 'M3']\n",
    "}\n",
    "\n",
    "Map6.addLayer(salt_lake_VIIRS, vis_params, name='salt_lake_VIIRS')\n",
    "Map6"
   ]
  }
 ],
 "metadata": {
  "kernelspec": {
   "display_name": "Python 3 (ipykernel)",
   "language": "python",
   "name": "python3"
  },
  "language_info": {
   "codemirror_mode": {
    "name": "ipython",
    "version": 3
   },
   "file_extension": ".py",
   "mimetype": "text/x-python",
   "name": "python",
   "nbconvert_exporter": "python",
   "pygments_lexer": "ipython3",
   "version": "3.9.7"
  }
 },
 "nbformat": 4,
 "nbformat_minor": 5
}
